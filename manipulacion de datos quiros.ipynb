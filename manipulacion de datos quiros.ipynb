{
 "cells": [
  {
   "cell_type": "code",
   "execution_count": 5,
   "id": "6526bbb3",
   "metadata": {},
   "outputs": [
    {
     "name": "stdout",
     "output_type": "stream",
     "text": [
      "importamos el dataset y verificamos su correcta carga \n",
      "\n",
      "(45209, 15)     Age           Job Marital_Status  Education Credit  Balance HousingL  \\\n",
      "0  58.0       unknown     Divorciado    unknown     no   2143.0      yes   \n",
      "1  44.0    technician         single  secondary     no    448.0      yes   \n",
      "2  33.0  entrepreneur         Casado  secondary     no      2.0      yes   \n",
      "3  47.0       unknown        married    unknown     no   1506.0      yes   \n",
      "4  33.0       unknown         single    unknown     no      1.0       no   \n",
      "\n",
      "  PersonalL  Contact  CDuration  Campaign  Pdays  Previous Poutcome  \\\n",
      "0       yes  unknown      261.0         1   -1.0         0  unknown   \n",
      "1        no  unknown      151.0         1   -1.0         0  unknown   \n",
      "2       yes  unknown       76.0         1   -1.0         0  unknown   \n",
      "3        no  unknown       92.0         1   -1.0         0  unknown   \n",
      "4        no  unknown      164.0         1   -1.0         0  unknown   \n",
      "\n",
      "   Subscription  \n",
      "0             0  \n",
      "1             0  \n",
      "2             0  \n",
      "3             0  \n",
      "4             0  \n",
      "\n",
      " revisamos por las dudas que no haya faltantes \n",
      "\n",
      "                Total  Percent\n",
      "Age                 0      0.0\n",
      "Job                 0      0.0\n",
      "Marital_Status      0      0.0\n",
      "Education           0      0.0\n",
      "Credit              0      0.0\n",
      "Balance             0      0.0\n",
      "HousingL            0      0.0\n",
      "PersonalL           0      0.0\n",
      "Contact             0      0.0\n",
      "CDuration           0      0.0\n",
      "Campaign            0      0.0\n",
      "Pdays               0      0.0\n",
      "Previous            0      0.0\n",
      "Poutcome            0      0.0\n",
      "Subscription        0      0.0\n"
     ]
    }
   ],
   "source": [
    "import pandas as pd\n",
    "import numpy as np\n",
    "import matplotlib.pyplot as plt\n",
    "import seaborn as sns\n",
    "from sklearn.preprocessing import MinMaxScaler\n",
    "print(\"importamos el dataset y verificamos su correcta carga \\n\")\n",
    "data = pd.read_csv('DatosTPF.csv')\n",
    "print(data.shape, data.head())\n",
    "print(\"\\n revisamos por las dudas que no haya faltantes \\n\")\n",
    "total = data.isnull().sum().sort_values(ascending=False)\n",
    "percent = (data.isnull().sum()/len(data)).sort_values(ascending=False)\n",
    "missing_data = pd.concat([total, percent], axis=1, keys=['Total', 'Percent'])\n",
    "print(missing_data)"
   ]
  },
  {
   "cell_type": "code",
   "execution_count": 6,
   "id": "cff3aa8f",
   "metadata": {},
   "outputs": [
    {
     "name": "stdout",
     "output_type": "stream",
     "text": [
      "Lo primero sera utilizar el One-Hot encoding para nuestras variables categoricas\n",
      "(45209, 42)\n",
      "la cantidad de columnas crecio de manera significativa ya veremos como afecta esto en nuestro modelo\n"
     ]
    }
   ],
   "source": [
    "print(\"Lo primero sera utilizar el One-Hot encoding para nuestras variables categoricas\")\n",
    "columnas_categoricas = data.select_dtypes(include=['object']).columns\n",
    "\n",
    "DataE = pd.get_dummies(data, columns=columnas_categoricas)\n",
    "\n",
    "print(DataE.shape)\n",
    "print(\"la cantidad de columnas crecio de manera significativa ya veremos como afecta esto en nuestro modelo\")"
   ]
  },
  {
   "cell_type": "code",
   "execution_count": 7,
   "id": "ad0fd64f",
   "metadata": {},
   "outputs": [
    {
     "name": "stdout",
     "output_type": "stream",
     "text": [
      "luego debemos hacer es normalizar nuestras variables para ello utilizaremos el metodo Min-Max scaler\n",
      "        Age   Balance  CDuration  Campaign  Pdays  Previous  Subscription  \\\n",
      "0  0.519481  0.073759   0.067251       0.0    0.0       0.0           0.0   \n",
      "1  0.337662  0.053595   0.038907       0.0    0.0       0.0           0.0   \n",
      "2  0.194805  0.048289   0.019583       0.0    0.0       0.0           0.0   \n",
      "3  0.376623  0.066181   0.023705       0.0    0.0       0.0           0.0   \n",
      "4  0.194805  0.048277   0.042257       0.0    0.0       0.0           0.0   \n",
      "\n",
      "   Job_admin.  Job_blue-collar  Job_entrepreneur  ...  HousingL_yes  \\\n",
      "0           0                0                 0  ...             1   \n",
      "1           0                0                 0  ...             1   \n",
      "2           0                0                 1  ...             1   \n",
      "3           0                0                 0  ...             1   \n",
      "4           0                0                 0  ...             0   \n",
      "\n",
      "   PersonalL_no  PersonalL_yes  Contact_cellular  Contact_telephone  \\\n",
      "0             0              1                 0                  0   \n",
      "1             1              0                 0                  0   \n",
      "2             0              1                 0                  0   \n",
      "3             1              0                 0                  0   \n",
      "4             1              0                 0                  0   \n",
      "\n",
      "   Contact_unknown  Poutcome_failure  Poutcome_other  Poutcome_success  \\\n",
      "0                1                 0               0                 0   \n",
      "1                1                 0               0                 0   \n",
      "2                1                 0               0                 0   \n",
      "3                1                 0               0                 0   \n",
      "4                1                 0               0                 0   \n",
      "\n",
      "   Poutcome_unknown  \n",
      "0                 1  \n",
      "1                 1  \n",
      "2                 1  \n",
      "3                 1  \n",
      "4                 1  \n",
      "\n",
      "[5 rows x 42 columns]\n"
     ]
    }
   ],
   "source": [
    "print(\"luego debemos hacer es normalizar nuestras variables para ello utilizaremos el metodo Min-Max scaler\")\n",
    "\n",
    "columnas_numericas = DataE.select_dtypes(include=['float64', 'int64']).columns\n",
    "scaler = MinMaxScaler()\n",
    "\n",
    "\n",
    "dataN = DataE.copy()  # Copiamos el DataFrame original para no modificar los datos originales\n",
    "dataN[columnas_numericas] = scaler.fit_transform(DataE[columnas_numericas])\n",
    "\n",
    "# Verificar el DataFrame después de la normalización\n",
    "print(dataN.head())\n"
   ]
  },
  {
   "cell_type": "code",
   "execution_count": 10,
   "id": "6f6f8300",
   "metadata": {},
   "outputs": [
    {
     "name": "stdout",
     "output_type": "stream",
     "text": [
      "Lo guardaremos como dataN\n"
     ]
    }
   ],
   "source": [
    "print(\"Lo guardaremos como dataN\")\n",
    "dataN.to_csv('dataN.csv', index=False)"
   ]
  },
  {
   "cell_type": "code",
   "execution_count": null,
   "id": "fde28a72",
   "metadata": {},
   "outputs": [],
   "source": []
  }
 ],
 "metadata": {
  "kernelspec": {
   "display_name": "Python 3 (ipykernel)",
   "language": "python",
   "name": "python3"
  },
  "language_info": {
   "codemirror_mode": {
    "name": "ipython",
    "version": 3
   },
   "file_extension": ".py",
   "mimetype": "text/x-python",
   "name": "python",
   "nbconvert_exporter": "python",
   "pygments_lexer": "ipython3",
   "version": "3.11.4"
  }
 },
 "nbformat": 4,
 "nbformat_minor": 5
}
